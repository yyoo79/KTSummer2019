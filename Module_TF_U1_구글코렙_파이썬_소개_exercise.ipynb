{
  "nbformat": 4,
  "nbformat_minor": 0,
  "metadata": {
    "colab": {
      "name": "Module TF U1 구글코렙_파이썬_소개 exercise.ipynb",
      "version": "0.3.2",
      "provenance": [],
      "collapsed_sections": [
        "Za8-Nr5k11fh"
      ]
    },
    "kernelspec": {
      "name": "python3",
      "display_name": "Python 3"
    }
  },
  "cells": [
    {
      "cell_type": "markdown",
      "metadata": {
        "colab_type": "text",
        "id": "Za8-Nr5k11fh"
      },
      "source": [
        "##### Copyright 2018 The TensorFlow Authors."
      ]
    },
    {
      "cell_type": "code",
      "metadata": {
        "cellView": "form",
        "colab_type": "code",
        "id": "Eq10uEbw0E4l",
        "colab": {}
      },
      "source": [
        "#@title Licensed under the Apache License, Version 2.0 (the \"License\");\n",
        "# you may not use this file except in compliance with the License.\n",
        "# You may obtain a copy of the License at\n",
        "#\n",
        "# https://www.apache.org/licenses/LICENSE-2.0\n",
        "#\n",
        "# Unless required by applicable law or agreed to in writing, software\n",
        "# distributed under the License is distributed on an \"AS IS\" BASIS,\n",
        "# WITHOUT WARRANTIES OR CONDITIONS OF ANY KIND, either express or implied.\n",
        "# See the License for the specific language governing permissions and\n",
        "# limitations under the License."
      ],
      "execution_count": 0,
      "outputs": []
    },
    {
      "cell_type": "markdown",
      "metadata": {
        "colab_type": "text",
        "id": "YHI3vyhv5p85"
      },
      "source": [
        "## **구글코렙 및 파이썬 소개**"
      ]
    },
    {
      "cell_type": "markdown",
      "metadata": {
        "colab_type": "text",
        "id": "F8YVA_634OFk"
      },
      "source": [
        "이 Colab에 오신 것을 환영합니다.\n",
        "\n",
        "---\n",
        "\n",
        "\n",
        "여기서 Python 프로그래밍 언어 및 코스 연습에 사용 된 환경에 대해 간략하게 소개합니다 : Colab.\n",
        "\n",
        "Colab은 Google Cloud를 사용하여 브라우저에서 실행되는 Python 개발 환경입니다.\n",
        "\n",
        "예를 들어 \"Hello World\"를 인쇄하려면 [ ] 위에 마우스를 올려 놓고 재생 버튼을 왼쪽 상단으로 누릅니다. 또는 shift-enter를 눌러 실행하십시오."
      ]
    },
    {
      "cell_type": "code",
      "metadata": {
        "colab_type": "code",
        "id": "bdLopQtuAJi4",
        "colab": {}
      },
      "source": [
        "# 호환성 관련 코드\n",
        "from __future__ import"
      ],
      "execution_count": 0,
      "outputs": []
    },
    {
      "cell_type": "code",
      "metadata": {
        "colab_type": "code",
        "id": "X9uIpOS2zx7k",
        "colab": {}
      },
      "source": [
        "#Hello World를 프린트\n"
      ],
      "execution_count": 0,
      "outputs": []
    },
    {
      "cell_type": "markdown",
      "metadata": {
        "colab_type": "text",
        "id": "wwJGmDrQ0EoB"
      },
      "source": [
        "## 함수(Functions), 조건문(Conditionals) 및 반복/이터레이션(Iteration)\n",
        "파이썬 함수를 만들고 루프(loop)로 돌려봅니다."
      ]
    },
    {
      "cell_type": "code",
      "metadata": {
        "colab_type": "code",
        "id": "pRllo2HLfXiu",
        "colab": {}
      },
      "source": [
        "# x가 10보다 작은경우, 10을 포함해 크고 20보다 작은경우, 20을 포함해 큰경우의 조건을 프린트\n",
        "# 끝으로 x+y를 출력\n",
        "def HelloWorldXY(x, y):\n",
        "  \n",
        "# 8부터 시작 25까지 5 step으로 반복하며 위에 만든 함수를 부르고,\n",
        "# Now running과 Result를 각각 프린트\n",
        "for i in range():  # i=8, 13, 18, 23 (start, stop, step)\n",
        "  "
      ],
      "execution_count": 0,
      "outputs": []
    },
    {
      "cell_type": "code",
      "metadata": {
        "colab_type": "code",
        "id": "lHNmDCh0JpVP",
        "colab": {}
      },
      "source": [
        "# 함수를 바로 프린트도 가능\n",
        "print(HelloWorldXY(1,2))"
      ],
      "execution_count": 0,
      "outputs": []
    },
    {
      "cell_type": "markdown",
      "metadata": {
        "colab_type": "text",
        "id": "kiZG7uhm8qCF"
      },
      "source": [
        "간단하죠?\n",
        "\n",
        "루프를 0에서 2(포함시키지 않음)로 시작하려면 다음 중 하나를 수행하면됩니다."
      ]
    },
    {
      "cell_type": "code",
      "metadata": {
        "colab_type": "code",
        "id": "m8YQN1H41L-Y",
        "colab": {}
      },
      "source": [
        "print(\"Iterate over the items. `range(2)` is like a list [0,1].\")\n",
        "\n",
        "\n",
        "print(\"Iterate over an actual list.\")\n",
        "\n",
        "\n",
        "# while 사용\n",
        "print(\"While works\")\n"
      ],
      "execution_count": 0,
      "outputs": []
    },
    {
      "cell_type": "code",
      "metadata": {
        "colab_type": "code",
        "id": "vIgmFZq4zszl",
        "colab": {}
      },
      "source": [
        "# 다른 방식으로 while 사용\n",
        "print(\"Python supports standard key words like continue and break\")\n"
      ],
      "execution_count": 0,
      "outputs": []
    },
    {
      "cell_type": "markdown",
      "metadata": {
        "colab_type": "text",
        "id": "5QyOUhFw1OUX"
      },
      "source": [
        "## 넘피(Numpy)와 리스트(lists)\n",
        "리스트는 파이썬의 리스트를 사용할수 있지만, 여기선  numpy라는 라이브러리를 사용하겠습니다. Numpy는 기계학습(Machine Learning)을 할 때 유용한 많은 기능을 가지고 있습니다.\n",
        "\n",
        "아래 import 문구(statement)를 보겠습니다.. 이 명령문은 numpy 패키지 전체를 사용할 수 있도록 하며 'np' 구문을 사용하여 해당 라이브러리를 액세스 할 수 있습니다."
      ]
    },
    {
      "cell_type": "code",
      "metadata": {
        "colab_type": "code",
        "id": "4Dxk4q-jzEy4",
        "colab": {}
      },
      "source": [
        "import numpy as np  # Make numpy available using np.\n",
        "\n",
        "# Create a numpy array, and append an element\n",
        "# Hello와 World로 배열을 만들고, !(느낌표)를 추가\n",
        "\n",
        "# format() 사용하여 a를 프린트\n",
        "\n",
        "# for loop를 사용해서 각 element를 프린트\n",
        "print(\"Printing each element\")\n",
        "\n",
        "# enumerate를 사용하여 각 element와 index를 프린트\n",
        "print(\"\\nPrinting each element and their index\")\n",
        "\n"
      ],
      "execution_count": 0,
      "outputs": []
    },
    {
      "cell_type": "code",
      "metadata": {
        "colab_type": "code",
        "id": "RTa8_9G3LV03",
        "colab": {}
      },
      "source": [
        "print(\"\\nShowing some basic math on arrays\")\n",
        "b = np.array([0,1,4,3,2])\n",
        "\n",
        "#기본 수학기능을 사용하여 max, average, argmax를 프린트\n"
      ],
      "execution_count": 0,
      "outputs": []
    },
    {
      "cell_type": "markdown",
      "metadata": {
        "id": "I6S5xNIR4uaM",
        "colab_type": "text"
      },
      "source": [
        "**argmax?**\n",
        "\n",
        "numpy.argmax 는 다차원 배열의 경우에 차원에 따라 가장 큰 값의 인덱스들을 반환해주는 함수입니다."
      ]
    },
    {
      "cell_type": "code",
      "metadata": {
        "colab_type": "code",
        "id": "9YaGj5n4LW7P",
        "colab": {}
      },
      "source": [
        "# 위에 사용했던 b의 타입을 프린트\n",
        "print(\"\\nYou can print the type of anything\")\n"
      ],
      "execution_count": 0,
      "outputs": []
    },
    {
      "cell_type": "code",
      "metadata": {
        "colab_type": "code",
        "id": "V6ilVhi9LXn_",
        "colab": {}
      },
      "source": [
        "# 3x3 배열을 무작위 숫자로 만들고 프린트\n",
        "print(\"\\nUse numpy to create a [3,3] dimension array with random number\")\n"
      ],
      "execution_count": 0,
      "outputs": []
    },
    {
      "cell_type": "code",
      "metadata": {
        "colab_type": "code",
        "id": "W_Q-DkFCLYGA",
        "colab": {}
      },
      "source": [
        "print(\"\\nYou can print the dimensions of arrays\")\n",
        "\n",
        "# a, b, c의 shape를 프린트\n",
        "\n",
        "print(\"...Observe, Python uses both [0,1,2] and (0,1,2) to specify lists\")"
      ],
      "execution_count": 0,
      "outputs": []
    },
    {
      "cell_type": "markdown",
      "metadata": {
        "colab_type": "text",
        "id": "c-Jk4dG91dvD"
      },
      "source": [
        "## 구글코렙(Colab) 특정 커맨드(command)"
      ]
    },
    {
      "cell_type": "markdown",
      "metadata": {
        "colab_type": "text",
        "id": "G0cGd8sHEmKi"
      },
      "source": [
        "Colab은 직접 액세스 할 수있는 가상 시스템입니다. VM의 터미널에서 명령을 실행하려면 줄 앞에 느낌표 (!)를 붙이십시오."
      ]
    },
    {
      "cell_type": "code",
      "metadata": {
        "colab_type": "code",
        "id": "cLkfhyzq0W2y",
        "colab": {}
      },
      "source": [
        "print(\"\\nDoing $ls on filesystem\")\n",
        "\n",
        "# 현재 디렉트리와 파일관련 batch command를 실행\n",
        "\n",
        "# print working directory - 현재 디렉토리를 프린트\n"
      ],
      "execution_count": 0,
      "outputs": []
    },
    {
      "cell_type": "code",
      "metadata": {
        "colab_type": "code",
        "id": "gR2WTN1cOZ1n",
        "colab": {}
      },
      "source": [
        "print(\"Install numpy\")  # Just for test, numpy is actually preinstalled in all Colab instancs\n"
      ],
      "execution_count": 0,
      "outputs": []
    },
    {
      "cell_type": "markdown",
      "metadata": {
        "colab_type": "text",
        "id": "QuWRpQdatAIU"
      },
      "source": [
        "**Exercise 1**\n",
        "\n",
        "이 텍스트 셀 아래에 코드 셀을 만들고 코드(code)를 추가합니다.\n",
        "\n",
        "현재 디렉토리의 경로를 나열하십시오 (pwd).\n",
        "/ (cd)로 이동하여 내용 (ls -l)을 나열하십시오."
      ]
    },
    {
      "cell_type": "markdown",
      "metadata": {
        "colab_type": "text",
        "id": "7b5jv0ouFREV"
      },
      "source": [
        "구글 코렙(Colab)의 모든 사용은 완전히 무료입니다. GPU 사용량은 매일 몇 시간 동안 무료로 제공됩니다.\n",
        "\n",
        "**GPU 사용**\n",
        "\n",
        "* 여기 많은 연습 문제는 GPU Runtime을 사용하여보다 빠르게 실행됩니다 : Runtime | Change runtime type | Hardware accelerator | GPU\n",
        "\n",
        "**Colab 정리**\n",
        "\n",
        "* 각 셀(cell)을 순서대로 실행하고 원하는 경우 셀(cell)을 편집하고 다시 실행할 수 있습니다.\n",
        "* 때때로 이것은 의도하지 않은 결과를 초래할 수 있습니다. 예를 들어, 배열(array)에 차원(dimension)을 추가하고 셀(cell)을 여러 번 실행하면 이후의 셀(cell)이 작동하지 않을 수 있습니다. 문제가 발생하면 환경을 재설정하십시오:\n",
        " *   Runtime -> Restart runtime... Resets your Python shell\n",
        " *   Runtime -> Restart all runtimes... Colab 이미지를 재설정하고 100 % 깨끗한 환경으로 되돌립니다.\n",
        "* Colab에서 출력을 지울 수도 있습니다: Edit -> Clear all outputs\n",
        "* Colabs는 GitHub에서 로드됩니다. 코드 / 출력으로 사본을 원한다면 Google 드라이브에 저장: File -> Save a copy in Drive...\n"
      ]
    }
  ]
}